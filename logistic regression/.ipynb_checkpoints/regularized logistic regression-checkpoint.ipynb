{
 "cells": [
  {
   "cell_type": "code",
   "execution_count": 1,
   "metadata": {},
   "outputs": [],
   "source": [
    "import numpy as np\n",
    "from matplotlib import pyplot as plt\n",
    "from scipy import optimize as opt\n",
    "import pandas as pd"
   ]
  },
  {
   "cell_type": "code",
   "execution_count": 2,
   "metadata": {},
   "outputs": [],
   "source": [
    "data=pd.read_csv('ex2data2.txt',sep=',',header=None)"
   ]
  },
  {
   "cell_type": "code",
   "execution_count": 3,
   "metadata": {},
   "outputs": [
    {
     "data": {
      "text/html": [
       "<div>\n",
       "<style scoped>\n",
       "    .dataframe tbody tr th:only-of-type {\n",
       "        vertical-align: middle;\n",
       "    }\n",
       "\n",
       "    .dataframe tbody tr th {\n",
       "        vertical-align: top;\n",
       "    }\n",
       "\n",
       "    .dataframe thead th {\n",
       "        text-align: right;\n",
       "    }\n",
       "</style>\n",
       "<table border=\"1\" class=\"dataframe\">\n",
       "  <thead>\n",
       "    <tr style=\"text-align: right;\">\n",
       "      <th></th>\n",
       "      <th>0</th>\n",
       "      <th>1</th>\n",
       "      <th>2</th>\n",
       "    </tr>\n",
       "  </thead>\n",
       "  <tbody>\n",
       "    <tr>\n",
       "      <th>0</th>\n",
       "      <td>0.051267</td>\n",
       "      <td>0.69956</td>\n",
       "      <td>1</td>\n",
       "    </tr>\n",
       "    <tr>\n",
       "      <th>1</th>\n",
       "      <td>-0.092742</td>\n",
       "      <td>0.68494</td>\n",
       "      <td>1</td>\n",
       "    </tr>\n",
       "    <tr>\n",
       "      <th>2</th>\n",
       "      <td>-0.213710</td>\n",
       "      <td>0.69225</td>\n",
       "      <td>1</td>\n",
       "    </tr>\n",
       "    <tr>\n",
       "      <th>3</th>\n",
       "      <td>-0.375000</td>\n",
       "      <td>0.50219</td>\n",
       "      <td>1</td>\n",
       "    </tr>\n",
       "    <tr>\n",
       "      <th>4</th>\n",
       "      <td>-0.513250</td>\n",
       "      <td>0.46564</td>\n",
       "      <td>1</td>\n",
       "    </tr>\n",
       "  </tbody>\n",
       "</table>\n",
       "</div>"
      ],
      "text/plain": [
       "          0        1  2\n",
       "0  0.051267  0.69956  1\n",
       "1 -0.092742  0.68494  1\n",
       "2 -0.213710  0.69225  1\n",
       "3 -0.375000  0.50219  1\n",
       "4 -0.513250  0.46564  1"
      ]
     },
     "execution_count": 3,
     "metadata": {},
     "output_type": "execute_result"
    }
   ],
   "source": [
    "data.head()"
   ]
  },
  {
   "cell_type": "code",
   "execution_count": 4,
   "metadata": {},
   "outputs": [],
   "source": [
    "X=data.iloc[:,0:2]\n",
    "Y=data.iloc[:,2]"
   ]
  },
  {
   "cell_type": "code",
   "execution_count": 5,
   "metadata": {},
   "outputs": [
    {
     "data": {
      "text/plain": [
       "0      1\n",
       "1      1\n",
       "2      1\n",
       "3      1\n",
       "4      1\n",
       "      ..\n",
       "113    0\n",
       "114    0\n",
       "115    0\n",
       "116    0\n",
       "117    0\n",
       "Name: 2, Length: 118, dtype: int64"
      ]
     },
     "execution_count": 5,
     "metadata": {},
     "output_type": "execute_result"
    }
   ],
   "source": [
    "Y"
   ]
  },
  {
   "cell_type": "code",
   "execution_count": 6,
   "metadata": {},
   "outputs": [],
   "source": [
    "pos=Y==1"
   ]
  },
  {
   "cell_type": "code",
   "execution_count": 7,
   "metadata": {},
   "outputs": [],
   "source": [
    "neg=Y==0\n"
   ]
  },
  {
   "cell_type": "code",
   "execution_count": 8,
   "metadata": {},
   "outputs": [
    {
     "data": {
      "image/png": "[encoded data removed]",
      "text/plain": [
       "<Figure size 432x288 with 1 Axes>"
      ]
     },
     "metadata": {
      "needs_background": "light"
     },
     "output_type": "display_data"
    }
   ],
   "source": [
    "plt.plot(X[pos][0],X[pos][1],'o',lw=2,ms=7,color='yellow',label='y==1')\n",
    "plt.plot(X[neg][0],X[neg][1],'o',lw=2,ms=7,color='red',label='y==0')\n",
    "plt.xlabel('chip test1')\n",
    "plt.ylabel('chip test2')\n",
    "plt.legend()\n",
    "plt.show()"
   ]
  },
  {
   "cell_type": "code",
   "execution_count": 9,
   "metadata": {},
   "outputs": [],
   "source": [
    "m,n=X.shape"
   ]
  },
  {
   "cell_type": "code",
   "execution_count": 10,
   "metadata": {},
   "outputs": [],
   "source": [
    "def mapfeature(X1,X2):\n",
    "    out=np.ones((X1.shape[0],1))\n",
    "    \n",
    "    degree=6\n",
    "    for i in range(1,degree+1):\n",
    "        for j in range(0,i+1):\n",
    "            out=np.hstack((out,((X1**(i-j))*(X2**j))[:,np.newaxis]))\n",
    "    return out\n",
    "            \n",
    "            "
   ]
  },
  {
   "cell_type": "code",
   "execution_count": 11,
   "metadata": {},
   "outputs": [],
   "source": [
    "X=np.array(X)"
   ]
  },
  {
   "cell_type": "code",
   "execution_count": 12,
   "metadata": {},
   "outputs": [],
   "source": [
    "X=mapfeature(X[:,0],X[:,1])"
   ]
  },
  {
   "cell_type": "code",
   "execution_count": 13,
   "metadata": {},
   "outputs": [
    {
     "data": {
      "text/plain": [
       "(118, 28)"
      ]
     },
     "execution_count": 13,
     "metadata": {},
     "output_type": "execute_result"
    }
   ],
   "source": [
    "X.shape"
   ]
  },
  {
   "cell_type": "code",
   "execution_count": 14,
   "metadata": {},
   "outputs": [],
   "source": [
    "intial_theta=np.zeros(X.shape[1])"
   ]
  },
  {
   "cell_type": "code",
   "execution_count": null,
   "metadata": {},
   "outputs": [],
   "source": []
  },
  {
   "cell_type": "code",
   "execution_count": 15,
   "metadata": {},
   "outputs": [],
   "source": [
    "lamda=1"
   ]
  },
  {
   "cell_type": "code",
   "execution_count": 16,
   "metadata": {},
   "outputs": [],
   "source": [
    "def sigmoid(z):\n",
    "    temp=-z\n",
    "    temp=np.exp(temp)\n",
    "    temp=1+temp\n",
    "    temp=1.0/temp\n",
    "    return temp\n",
    "    "
   ]
  },
  {
   "cell_type": "code",
   "execution_count": 17,
   "metadata": {},
   "outputs": [],
   "source": [
    "def costfunctionreg(theta,X,Y,lamda):\n",
    "    m,n=X.shape\n",
    "    theta=theta[:,np.newaxis]\n",
    "    Y=Y[:,np.newaxis]\n",
    "    temp=X@theta\n",
    "    temp=sigmoid(temp)\n",
    "    J=Y.T@np.log(temp)+((1-Y).T)@np.log(1-temp)\n",
    "    J=-1/m*J.T\n",
    "    J=J+(lamda/(2*m))*theta[1:,:].T@theta[1:,:]\n",
    "    \n",
    "    return J\n",
    "def Gradientreg(theta,X,Y,lamda):\n",
    "    m,n=X.shape\n",
    "    Y=Y[:,np.newaxis]\n",
    "    theta=theta[:,np.newaxis]\n",
    "    grad=(1/(m))*(X.T@(sigmoid(X@theta)-Y))\n",
    "    temp=grad[0]\n",
    "    grad=grad+(lamda/m)*theta\n",
    "    grad[0]=temp\n",
    "    return grad"
   ]
  },
  {
   "cell_type": "code",
   "execution_count": 18,
   "metadata": {},
   "outputs": [
    {
     "data": {
      "text/plain": [
       "array([[[0.69314718]]])"
      ]
     },
     "execution_count": 18,
     "metadata": {},
     "output_type": "execute_result"
    }
   ],
   "source": [
    "costfunctionreg(intial_theta,X,Y[:,np.newaxis],lamda)"
   ]
  },
  {
   "cell_type": "code",
   "execution_count": 19,
   "metadata": {},
   "outputs": [
    {
     "data": {
      "text/plain": [
       "array([[[-5.00000000e-01],\n",
       "        [-2.73894542e-02],\n",
       "        [-9.15507797e-02],\n",
       "        [-1.23787668e-01],\n",
       "        [ 1.27359201e-02],\n",
       "        [-1.50684807e-01],\n",
       "        [-2.99166645e-02],\n",
       "        [-1.53407667e-02],\n",
       "        [-7.74125586e-03],\n",
       "        [-7.11750065e-02],\n",
       "        [-6.12692145e-02],\n",
       "        [ 2.62551905e-03],\n",
       "        [-2.52164372e-02],\n",
       "        [ 5.52409412e-03],\n",
       "        [-8.55492524e-02],\n",
       "        [-2.59825361e-02],\n",
       "        [-5.90589993e-03],\n",
       "        [-4.71604723e-03],\n",
       "        [-9.13890424e-03],\n",
       "        [-2.04454205e-03],\n",
       "        [-5.78548164e-02],\n",
       "        [-3.91855914e-02],\n",
       "        [ 3.51391335e-04],\n",
       "        [-9.46670166e-03],\n",
       "        [ 8.52478619e-04],\n",
       "        [-1.12958492e-02],\n",
       "        [ 3.15090389e-03],\n",
       "        [-6.28628011e-02]],\n",
       "\n",
       "       [[-5.00000000e-01],\n",
       "        [-2.73894542e-02],\n",
       "        [-9.15507797e-02],\n",
       "        [-1.23787668e-01],\n",
       "        [ 1.27359201e-02],\n",
       "        [-1.50684807e-01],\n",
       "        [-2.99166645e-02],\n",
       "        [-1.53407667e-02],\n",
       "        [-7.74125586e-03],\n",
       "        [-7.11750065e-02],\n",
       "        [-6.12692145e-02],\n",
       "        [ 2.62551905e-03],\n",
       "        [-2.52164372e-02],\n",
       "        [ 5.52409412e-03],\n",
       "        [-8.55492524e-02],\n",
       "        [-2.59825361e-02],\n",
       "        [-5.90589993e-03],\n",
       "        [-4.71604723e-03],\n",
       "        [-9.13890424e-03],\n",
       "        [-2.04454205e-03],\n",
       "        [-5.78548164e-02],\n",
       "        [-3.91855914e-02],\n",
       "        [ 3.51391335e-04],\n",
       "        [-9.46670166e-03],\n",
       "        [ 8.52478619e-04],\n",
       "        [-1.12958492e-02],\n",
       "        [ 3.15090389e-03],\n",
       "        [-6.28628011e-02]],\n",
       "\n",
       "       [[-5.00000000e-01],\n",
       "        [-2.73894542e-02],\n",
       "        [-9.15507797e-02],\n",
       "        [-1.23787668e-01],\n",
       "        [ 1.27359201e-02],\n",
       "        [-1.50684807e-01],\n",
       "        [-2.99166645e-02],\n",
       "        [-1.53407667e-02],\n",
       "        [-7.74125586e-03],\n",
       "        [-7.11750065e-02],\n",
       "        [-6.12692145e-02],\n",
       "        [ 2.62551905e-03],\n",
       "        [-2.52164372e-02],\n",
       "        [ 5.52409412e-03],\n",
       "        [-8.55492524e-02],\n",
       "        [-2.59825361e-02],\n",
       "        [-5.90589993e-03],\n",
       "        [-4.71604723e-03],\n",
       "        [-9.13890424e-03],\n",
       "        [-2.04454205e-03],\n",
       "        [-5.78548164e-02],\n",
       "        [-3.91855914e-02],\n",
       "        [ 3.51391335e-04],\n",
       "        [-9.46670166e-03],\n",
       "        [ 8.52478619e-04],\n",
       "        [-1.12958492e-02],\n",
       "        [ 3.15090389e-03],\n",
       "        [-6.28628011e-02]],\n",
       "\n",
       "       [[-5.00000000e-01],\n",
       "        [-2.73894542e-02],\n",
       "        [-9.15507797e-02],\n",
       "        [-1.23787668e-01],\n",
       "        [ 1.27359201e-02],\n",
       "        [-1.50684807e-01],\n",
       "        [-2.99166645e-02],\n",
       "        [-1.53407667e-02],\n",
       "        [-7.74125586e-03],\n",
       "        [-7.11750065e-02],\n",
       "        [-6.12692145e-02],\n",
       "        [ 2.62551905e-03],\n",
       "        [-2.52164372e-02],\n",
       "        [ 5.52409412e-03],\n",
       "        [-8.55492524e-02],\n",
       "        [-2.59825361e-02],\n",
       "        [-5.90589993e-03],\n",
       "        [-4.71604723e-03],\n",
       "        [-9.13890424e-03],\n",
       "        [-2.04454205e-03],\n",
       "        [-5.78548164e-02],\n",
       "        [-3.91855914e-02],\n",
       "        [ 3.51391335e-04],\n",
       "        [-9.46670166e-03],\n",
       "        [ 8.52478619e-04],\n",
       "        [-1.12958492e-02],\n",
       "        [ 3.15090389e-03],\n",
       "        [-6.28628011e-02]],\n",
       "\n",
       "       [[-5.00000000e-01],\n",
       "        [-2.73894542e-02],\n",
       "        [-9.15507797e-02],\n",
       "        [-1.23787668e-01],\n",
       "        [ 1.27359201e-02],\n",
       "        [-1.50684807e-01],\n",
       "        [-2.99166645e-02],\n",
       "        [-1.53407667e-02],\n",
       "        [-7.74125586e-03],\n",
       "        [-7.11750065e-02],\n",
       "        [-6.12692145e-02],\n",
       "        [ 2.62551905e-03],\n",
       "        [-2.52164372e-02],\n",
       "        [ 5.52409412e-03],\n",
       "        [-8.55492524e-02],\n",
       "        [-2.59825361e-02],\n",
       "        [-5.90589993e-03],\n",
       "        [-4.71604723e-03],\n",
       "        [-9.13890424e-03],\n",
       "        [-2.04454205e-03],\n",
       "        [-5.78548164e-02],\n",
       "        [-3.91855914e-02],\n",
       "        [ 3.51391335e-04],\n",
       "        [-9.46670166e-03],\n",
       "        [ 8.52478619e-04],\n",
       "        [-1.12958492e-02],\n",
       "        [ 3.15090389e-03],\n",
       "        [-6.28628011e-02]],\n",
       "\n",
       "       [[-5.00000000e-01],\n",
       "        [-2.73894542e-02],\n",
       "        [-9.15507797e-02],\n",
       "        [-1.23787668e-01],\n",
       "        [ 1.27359201e-02],\n",
       "        [-1.50684807e-01],\n",
       "        [-2.99166645e-02],\n",
       "        [-1.53407667e-02],\n",
       "        [-7.74125586e-03],\n",
       "        [-7.11750065e-02],\n",
       "        [-6.12692145e-02],\n",
       "        [ 2.62551905e-03],\n",
       "        [-2.52164372e-02],\n",
       "        [ 5.52409412e-03],\n",
       "        [-8.55492524e-02],\n",
       "        [-2.59825361e-02],\n",
       "        [-5.90589993e-03],\n",
       "        [-4.71604723e-03],\n",
       "        [-9.13890424e-03],\n",
       "        [-2.04454205e-03],\n",
       "        [-5.78548164e-02],\n",
       "        [-3.91855914e-02],\n",
       "        [ 3.51391335e-04],\n",
       "        [-9.46670166e-03],\n",
       "        [ 8.52478619e-04],\n",
       "        [-1.12958492e-02],\n",
       "        [ 3.15090389e-03],\n",
       "        [-6.28628011e-02]]])"
      ]
     },
     "execution_count": 19,
     "metadata": {},
     "output_type": "execute_result"
    }
   ],
   "source": [
    "Gradientreg(intial_theta,X,Y[:,np.newaxis],lamda)[0:6]"
   ]
  },
  {
   "cell_type": "code",
   "execution_count": 20,
   "metadata": {},
   "outputs": [],
   "source": [
    "test_theta=np.ones((X.shape[1]))\n"
   ]
  },
  {
   "cell_type": "code",
   "execution_count": 21,
   "metadata": {},
   "outputs": [],
   "source": [
    "lamda=10"
   ]
  },
  {
   "cell_type": "code",
   "execution_count": 22,
   "metadata": {},
   "outputs": [
    {
     "data": {
      "text/plain": [
       "array([[3.16450933]])"
      ]
     },
     "execution_count": 22,
     "metadata": {},
     "output_type": "execute_result"
    }
   ],
   "source": [
    "costfunctionreg(test_theta,X,Y,lamda)"
   ]
  },
  {
   "cell_type": "code",
   "execution_count": 23,
   "metadata": {},
   "outputs": [
    {
     "data": {
      "text/plain": [
       "array([[0.34604507],\n",
       "       [0.16135192],\n",
       "       [0.19479576],\n",
       "       [0.22686278],\n",
       "       [0.09218568],\n",
       "       [0.24438558]])"
      ]
     },
     "execution_count": 23,
     "metadata": {},
     "output_type": "execute_result"
    }
   ],
   "source": [
    "Gradientreg(test_theta,X,Y,lamda)[0:6]"
   ]
  },
  {
   "cell_type": "code",
   "execution_count": 24,
   "metadata": {},
   "outputs": [],
   "source": [
    "lamda=1"
   ]
  },
  {
   "cell_type": "code",
   "execution_count": 25,
   "metadata": {},
   "outputs": [],
   "source": [
    "temp=opt.fmin_tnc(func=costfunctionreg,fprime=Gradientreg,x0=intial_theta.flatten(),args=(X,Y,lamda))"
   ]
  },
  {
   "cell_type": "code",
   "execution_count": 26,
   "metadata": {},
   "outputs": [],
   "source": [
    "theta=temp[0]"
   ]
  },
  {
   "cell_type": "code",
   "execution_count": 27,
   "metadata": {},
   "outputs": [
    {
     "data": {
      "text/plain": [
       "array([[ 1.27271026],\n",
       "       [ 0.62529965],\n",
       "       [ 1.18111686],\n",
       "       [-2.01987399],\n",
       "       [-0.91743189],\n",
       "       [-1.43166929],\n",
       "       [ 0.12393227],\n",
       "       [-0.36553118],\n",
       "       [-0.35725403],\n",
       "       [-0.17516291],\n",
       "       [-1.45817009],\n",
       "       [-0.05098418],\n",
       "       [-0.61558554],\n",
       "       [-0.27469165],\n",
       "       [-1.19271298],\n",
       "       [-0.2421784 ],\n",
       "       [-0.20603299],\n",
       "       [-0.04466178],\n",
       "       [-0.2777895 ],\n",
       "       [-0.29539514],\n",
       "       [-0.45645982],\n",
       "       [-1.04319154],\n",
       "       [ 0.02779373],\n",
       "       [-0.2924487 ],\n",
       "       [ 0.0155576 ],\n",
       "       [-0.32742406],\n",
       "       [-0.1438915 ],\n",
       "       [-0.92467487]])"
      ]
     },
     "execution_count": 27,
     "metadata": {},
     "output_type": "execute_result"
    }
   ],
   "source": [
    "theta=theta[:,np.newaxis]\n",
    "theta"
   ]
  },
  {
   "cell_type": "code",
   "execution_count": 28,
   "metadata": {},
   "outputs": [],
   "source": [
    "pred=sigmoid(X@theta)"
   ]
  },
  {
   "cell_type": "code",
   "execution_count": 29,
   "metadata": {},
   "outputs": [
    {
     "data": {
      "text/plain": [
       "(118,)"
      ]
     },
     "execution_count": 29,
     "metadata": {},
     "output_type": "execute_result"
    }
   ],
   "source": [
    "Y.shape"
   ]
  },
  {
   "cell_type": "code",
   "execution_count": 30,
   "metadata": {},
   "outputs": [
    {
     "data": {
      "text/plain": [
       "(118, 28)"
      ]
     },
     "execution_count": 30,
     "metadata": {},
     "output_type": "execute_result"
    }
   ],
   "source": [
    "X.shape"
   ]
  },
  {
   "cell_type": "code",
   "execution_count": 31,
   "metadata": {},
   "outputs": [
    {
     "data": {
      "text/plain": [
       "(28, 1)"
      ]
     },
     "execution_count": 31,
     "metadata": {},
     "output_type": "execute_result"
    }
   ],
   "source": [
    "theta.shape"
   ]
  },
  {
   "cell_type": "code",
   "execution_count": 32,
   "metadata": {},
   "outputs": [],
   "source": [
    "pred=pred>=0.5"
   ]
  },
  {
   "cell_type": "code",
   "execution_count": 33,
   "metadata": {},
   "outputs": [
    {
     "data": {
      "text/plain": [
       "0.8305084745762712"
      ]
     },
     "execution_count": 33,
     "metadata": {},
     "output_type": "execute_result"
    }
   ],
   "source": [
    "np.mean(pred==Y[:,np.newaxis])"
   ]
  },
  {
   "cell_type": "code",
   "execution_count": 34,
   "metadata": {},
   "outputs": [],
   "source": [
    "u=np.linspace(-1,1.5,50)"
   ]
  },
  {
   "cell_type": "code",
   "execution_count": 35,
   "metadata": {},
   "outputs": [],
   "source": [
    "v=np.linspace(-1,1.5,50)"
   ]
  },
  {
   "cell_type": "code",
   "execution_count": 36,
   "metadata": {},
   "outputs": [],
   "source": [
    "z=np.zeros((len(u),len(v)))"
   ]
  },
  {
   "cell_type": "code",
   "execution_count": 37,
   "metadata": {},
   "outputs": [],
   "source": [
    "def mapfeaturescalar(X1,X2):\n",
    "    out=np.ones((1))\n",
    "    \n",
    "    degree=6\n",
    "    for i in range(1,degree+1):\n",
    "        for j in range(0,i+1):\n",
    "            out=np.hstack((out,((X1**(i-j))*(X2**j))))\n",
    "    return out\n",
    "            "
   ]
  },
  {
   "cell_type": "code",
   "execution_count": 38,
   "metadata": {},
   "outputs": [],
   "source": [
    "for i in range(len(u)):\n",
    "    for j in range(len(v)):\n",
    "        z[i,j]=mapfeaturescalar(u[i],v[j])@theta"
   ]
  },
  {
   "cell_type": "code",
   "execution_count": 40,
   "metadata": {},
   "outputs": [],
   "source": [
    "def plotdecision(theta):\n",
    "\n",
    "    pos=Y==1\n",
    "    neg=Y==0\n",
    "    X=data.iloc[:,:-1]\n",
    "    plt.plot(X[pos][0],X[pos][1],'o',lw=2,ms=7,color='yellow',label='y==1')\n",
    "    plt.plot(X[neg][0],X[neg][1],'o',lw=2,ms=7,color='red',label='y==0')\n",
    "    plt.xlabel('chip test1')\n",
    "    plt.ylabel('chip test2')\n",
    "    for i in range(len(u)):\n",
    "        for j in range(len(v)):\n",
    "            z[i,j]=mapfeaturescalar(u[i],v[j])@theta\n",
    "    plt.legend()\n",
    "    plt.contour(u,v,z,0)\n",
    "    plt.show()\n",
    "    "
   ]
  },
  {
   "cell_type": "code",
   "execution_count": 42,
   "metadata": {},
   "outputs": [
    {
     "data": {
      "image/png": "[encoded data removed]",
      "text/plain": [
       "<Figure size 432x288 with 1 Axes>"
      ]
     },
     "metadata": {
      "needs_background": "light"
     },
     "output_type": "display_data"
    },
    {
     "data": {
      "image/png": "[encoded data removed]",
      "text/plain": [
       "<Figure size 432x288 with 1 Axes>"
      ]
     },
     "metadata": {
      "needs_background": "light"
     },
     "output_type": "display_data"
    },
    {
     "data": {
      "image/png": "[encoded data removed]",
      "text/plain": [
       "<Figure size 432x288 with 1 Axes>"
      ]
     },
     "metadata": {
      "needs_background": "light"
     },
     "output_type": "display_data"
    },
    {
     "data": {
      "image/png": "[encoded data removed]",
      "text/plain": [
       "<Figure size 432x288 with 1 Axes>"
      ]
     },
     "metadata": {
      "needs_background": "light"
     },
     "output_type": "display_data"
    },
    {
     "data": {
      "image/png": "[encoded data removed]",
      "text/plain": [
       "<Figure size 432x288 with 1 Axes>"
      ]
     },
     "metadata": {
      "needs_background": "light"
     },
     "output_type": "display_data"
    }
   ],
   "source": [
    "for i in [0.00,1,5,10,100]:\n",
    "    lamda=i\n",
    "    temp=opt.fmin_tnc(func=costfunctionreg,fprime=Gradientreg,x0=intial_theta.flatten(),args=(X,Y,lamda))\n",
    "    theta=temp[0]\n",
    "    plotdecision(theta)"
   ]
  },
  {
   "cell_type": "code",
   "execution_count": null,
   "metadata": {},
   "outputs": [],
   "source": []
  },
  {
   "cell_type": "code",
   "execution_count": null,
   "metadata": {},
   "outputs": [],
   "source": []
  }
 ],
 "metadata": {
  "kernelspec": {
   "display_name": ".ml1",
   "language": "python",
   "name": ".ml1"
  },
  "language_info": {
   "codemirror_mode": {
    "name": "ipython",
    "version": 3
   },
   "file_extension": ".py",
   "mimetype": "text/x-python",
   "name": "python",
   "nbconvert_exporter": "python",
   "pygments_lexer": "ipython3",
   "version": "3.6.9"
  }
 },
 "nbformat": 4,
 "nbformat_minor": 2
}
